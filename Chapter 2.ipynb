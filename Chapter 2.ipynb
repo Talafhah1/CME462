{
 "cells": [
  {
   "cell_type": "markdown",
   "metadata": {},
   "source": [
    "# Chapter 2: Protocol Architecture\n",
    "___\n"
   ]
  },
  {
   "cell_type": "markdown",
   "metadata": {},
   "source": [
    "## 2.1 Need for Protocol Architecture\n",
    "- The overall **communication process** is complex and involves many different entities.  The communication process must then be _broken down into simpler layers_ to manage the complexity.\n",
    "- There must first be a **path** between the sender and receiver.  Either a point to point connection or a communication network.\n",
    "- The source system must either _activate the direct path_ or _inform the communication network_ of the destination system.\n",
    "- The source should check if the destination is ready to receive the message.\n",
    "- The transfer application on the source much check _if the file can be accepted and stored by the destination's file management system_.  The file may need to be translated.\n",
    "- **Layering** allows the communication process to be broken down into _simpler manageable components_.  Each layer _provides a service to the layer above_ it and uses the service of the layer below it.\n",
    "- Each layer operates according to a **protocol**.  The **protocol** is a set of _rules_ that govern how two or more entities communicate.  The protocol defines the _format and order of messages_ sent and received among the entities.\n",
    "- Each protocol must have three elements:\n",
    "\t1. **Syntax**: The _structure_ of the data.  It includes the data format, order, and control characters.\n",
    "    2. **Semantics**: The _meaning_ of each section of bits.  It includes the _control information_ for coordination and error handling.\n",
    "\t3. **Timing**: The _speed_ of the data transfer and the speed of the data recovery in case of errors.  **Speed matching** is the process of matching the speed of the sender and receiver.  **Sequencing** is the process of putting the data in the correct order.\n",
    "\n",
    "___\n"
   ]
  },
  {
   "cell_type": "markdown",
   "metadata": {},
   "source": [
    "# 2.2 TCP/IP Protocol Architecture\n",
    "- The **TCP/IP** protocol suite is the most widely used protocol suite.  It is named after the two most important protocols in the suite: the **Transmission Control Protocol (TCP)** and the **Internet Protocol (IP)**.\n",
    "- Developed in the 1970s by the US Defense Advanced Research Projects Agency **(DARPA)** to connect its computers on ARPANET.\n",
    "- **TCP/IP** is now used by the global internet.\n",
    "- The **TCP/IP** protocol suite is a layered architecture:\n",
    "\t1. **Physical Layer**: the _physical interface_ between the devices and the transmission medium.  Concerned with characteristics of the transmission medium, signals and their strength, and the data rate.\n",
    "\t2. **Network Access Layer**: responsible for _placing packets on and receiving them from the network medium_.  It is concerned with destination addresses, invoking services, and routing data between two systems on the same network.  The sender must provide the address of the destination to the network such that it may route the data to the correct destination.  Some traffic may have a higher priority than others.  This layer is _responsible for routing within its network_, but not between networks.\n",
    "\t3. **Internet Layer (IP)**: responsible for _addressing and routing across different networks_.  Implemented in routers that connect networks and relay data between them.\n",
    "\t4. **Transport Layer (TCP)**: responsible for the _reliable delivery_ of data and its ordering.  It ensures that _all data arrives_ at the destination and in _the same order_ it was sent.\n",
    "\t<!-- 5. Application Layer:  -->"
   ]
  }
 ],
 "metadata": {
  "language_info": {
   "name": "python"
  }
 },
 "nbformat": 4,
 "nbformat_minor": 2
}
