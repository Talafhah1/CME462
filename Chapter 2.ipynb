{
 "cells": [
  {
   "cell_type": "markdown",
   "metadata": {},
   "source": [
    "# Chapter 2: Protocol Architecture\n",
    "___\n"
   ]
  },
  {
   "cell_type": "markdown",
   "metadata": {},
   "source": [
    "## 2.1 Need for Protocol Architecture\n",
    "- The overall **communication process** is complex and involves many different entities.  The communication process must then be _broken down into simpler layers_ to manage the complexity.\n",
    "- There must first be a **path** between the sender and receiver.  Either a point to point connection or a communication network.\n",
    "- The source system must either _activate the direct path_ or _inform the communication network_ of the destination system.\n",
    "- The source should check if the destination is ready to receive the message.\n",
    "- The transfer application on the source much check _if the file can be accepted and stored by the destination's file management system_.  The file may need to be translated.\n",
    "- **Layering** allows the communication process to be broken down into _simpler manageable components_.  Each layer _provides a service to the layer above_ it and uses the service of the layer below it.\n",
    "- Each layer operates according to a **protocol**.  The **protocol** is a set of _rules_ that govern how two or more entities communicate.  The protocol defines the _format and order of messages_ sent and received among the entities.\n",
    "- Each protocol must have three elements:\n",
    "\t1. **Syntax**: The _structure_ of the data.  It includes the data format, order, and control characters.\n",
    "    2. **Semantics**: The _meaning_ of each section of bits.  It includes the _control information_ for coordination and error handling.\n",
    "\t3. **Timing**: The _speed_ of the data transfer and the speed of the data recovery in case of errors.  **Speed matching** is the process of matching the speed of the sender and receiver.  **Sequencing** is the process of putting the data in the correct order.\n",
    "\n",
    "___\n"
   ]
  },
  {
   "cell_type": "markdown",
   "metadata": {},
   "source": [
    "## 2.2 TCP/IP Protocol Architecture\n",
    "- The **TCP/IP** protocol suite is the most widely used protocol suite.  It is named after the two most important protocols in the suite: the **Transmission Control Protocol (TCP)** and the **Internet Protocol (IP)**.\n",
    "- Developed in the 1970s by the US Defense Advanced Research Projects Agency **(DARPA)** to connect its computers on ARPANET.\n",
    "- **TCP/IP** is now used by the global internet.\n",
    "- The **TCP/IP** protocol suite is a layered architecture:\n",
    "\t1. **Physical Layer**: the _physical interface_ between the devices and the transmission medium.  Concerned with characteristics of the transmission medium, signals and their strength, and the data rate.\n",
    "\t2. **Network Access Layer**: responsible for _placing packets on and receiving them from the network medium_.  It is concerned with destination addresses, invoking services, and routing data between two systems on the same network.  The sender must provide the address of the destination to the network such that it may route the data to the correct destination.  Some traffic may have a higher priority than others.  This layer is _responsible for routing within its network_, but not between networks.  This layer reads MAC addresses and is implemented in network interface cards (NICs).\n",
    "\t3. **Internet Layer (IP)**: responsible for _addressing and routing across different networks_.  Implemented in routers that connect networks and relay data between them.  This layer reads IP addresses and is implemented in routers.\n",
    "\t4. **Transport Layer (TCP)**: responsible for the _reliable delivery_ of data and its ordering.  It ensures that _all data arrives_ at the destination and in _the same order_ it was sent.\n",
    "\t5. **Application Layer**: provides support for user applications such as email, file transfer, and the web.  It is the _interface between the user and the network_.  Every application has its own module that is needed for that specific application.  Some examples include: **HTTP** for the web, **SMTP** for email, and **FTP** for file transfer.  This layer reads port numbers and is implemented in the operating system.\n",
    "\n",
    "___\n"
   ]
  },
  {
   "cell_type": "markdown",
   "metadata": {},
   "source": [
    "## 2.3 TCP/IP Operation\n",
    "### Overview\n",
    "1. A process on the source system A wishes to communicate with a process on the destination system B.\n",
    "2. The process at the source sends the message down to the TCP layer with instructions to send the message to the destination.  It specifies the destination port number and the source port number.\n",
    "3. The transport layer sends the message down to the IP layer with instructions to send the message to the destination.  \n",
    "4. The internet layer sends the message down to the network access layer.  It adds the IP address of the destination and the source to the message.\n",
    "5. The network access layer sends the message to the physical layer.  The message is then sent to the destination system.\n",
    "<figure>\n",
    "\t<img src=\"images/tcpip_overview.png\" alt=\"TCP/IP Overview\">\n",
    "\t<figcaption>Figure 2.1: TCP/IP Overview</figcaption>\n",
    "</figure>\n",
    "\n",
    "### Operation\n",
    "1. The application layer generates a block of data.\n",
    "2. The transport layer breaks the block of data into smaller packets and adds a TCP header to each packet.  The sequence number is added to each packet to ensure that the packets are reassembled in the correct order.  These packets are known as **TCP segments**.\n",
    "3. These segments will be transmitted through multiple networks and routers.  In order for this to happen, the segments must be encapsulated in an **IP datagram**.  The IP datagram contains the source and destination IP addresses.\n",
    "4. Finally, each datagram is encapsulated in a **frame** in the network access layer.  The frame contains the source and destination MAC addresses.\n",
    "<figure>\n",
    "\t<img src=\"images/tcpip_data_units.png\" alt=\"TCP/IP Data Units\">\n",
    "\t<figcaption>Figure 2.2: TCP/IP Data Units</figcaption>\n",
    "</figure>\n",
    "\n",
    "___"
   ]
  },
  {
   "cell_type": "markdown",
   "metadata": {},
   "source": [
    "## [2.V.1 TCP/IP Model Explained | Cisco CCNA 200-301](https://www.youtube.com/watch?v=OTwp3xtd4dg)\n",
    "\n",
    "<figure>\n",
    "\t<a href=\"https://www.youtube.com/watch?v=OTwp3xtd4dg\">\n",
    "\t\t<img src=\"images/video_thumbnails/2V1.png\" alt=\"TCP/IP Model Explained | Cisco CCNA 200-301\" style=\"max-width: 320px;\">\n",
    "\t</a>\n",
    "\t<figcaption>Video 2.1: TCP/IP Model Explained | Cisco CCNA 200-301</figcaption>\n",
    "</figure>\n",
    "\n",
    "- The **TCP/IP** model originally had 4 layers: **Link**, **Internet**, **Transport**, and **Application** layers.  It was later expanded to 5 layers by splitting the **Link** layer into **Network Access** and **Physical** layers.\n",
    "- The **TCP/IP** model is a _simplification_ of the **OSI** model.  The **OSI** model has 7 layers, splitting **Application** layer into **Session**, **Presentation**, and **Application** layers.\n",
    "- The layers of the **TCP/IP** model are as follows:\n",
    "\t1. At the **Physical** layer, the TCP/IP model has the **cabling** and **wireless** protocols.\n",
    "\t2. At the **Network Access** layer, the TCP/IP model has the **Ethernet** protocol, and is managed by switches.  Although *Layer 3 switches* can also manage the **Internet** layer.\n",
    "\t3. At the **Internet** layer, the TCP/IP model has the **IP** protocol, and is managed by routers.\n",
    "\t4. At the **Transport** layer, the TCP/IP model has the **TCP** and **UDP** protocols.  Port numbers are also added here.\n",
    "\t5. At the **Application** layer, the TCP/IP model has protocols such as **HTTP**, **SMTP**, **FTP**, et cetera.\n",
    "- Every layer adds its own header to the data, which is known as **encapsulation**.  The **Physical** layer sends the data to the destination.\n",
    "- Once received, the data is **decapsulated** by each layer, removing the header added by that layer.\n",
    "- Data travels in the TCP/IP model in the following manner:\n",
    "\t1. The **Application** layer sends data to the **Transport** layer.\n",
    "\t2. The **Transport** layer adds a header to the data (now known as a **segment**) and sends it to the **Internet** layer.\n",
    "\t3. The **Internet** layer adds a header to the data (now known as a **datagram** or **packet**) and sends it to the **Network Access** layer.\n",
    "\t4. The **Network Access** layer adds a header and a trailer to the data (now known as a **frame**) and sends it to the destination.\n",
    "\n",
    "___\n"
   ]
  }
 ],
 "metadata": {
  "language_info": {
   "name": "python"
  }
 },
 "nbformat": 4,
 "nbformat_minor": 2
}
