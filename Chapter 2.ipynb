{
 "cells": [
  {
   "cell_type": "markdown",
   "metadata": {},
   "source": [
    "# Chapter 2: Protocol Architecture\n",
    "___\n"
   ]
  },
  {
   "cell_type": "markdown",
   "metadata": {},
   "source": [
    "## 2.1 Need for Protocol Architecture\n",
    "- The overall communication process is complex and involves many different entities.  The communication process must then be broken down into simpler layers to manage the complexity.\n",
    "- There must first be a path between the sender and receiver.  Either a point to point connection or a communication network.\n",
    "- The source system must either activate the direct path or inform the communication network of the destination system.\n",
    "- The source should check if the destination is ready to receive the message.\n",
    "- The transfer application on the source much check if the file can be accepted and stored by the destination's file management system.  The file may need to be translated.\n",
    "- Layering allows the communication process to be broken down into simpler manageable components.  Each layer provides a service to the layer above it and uses the service of the layer below it.\n",
    "- Each layer operates according to a protocol.  The protocol is a set of rules that govern how two or more entities communicate.  The protocol defines the format and order of messages sent and received among the entities.\n",
    "- Each protocol must have three elements:\n",
    "\t1. Syntax: The structure of the data.  It includes the data format, order, and control characters.\n",
    "    \t2. Semantics: The meaning of each section of bits.  It includes the control information for coordination and error handling.\n",
    "\t3. Timing: The speed of the data transfer and the speed of the data recovery in case of errors.  Speed matching is the process of matching the speed of the sender and receiver.  Sequencing is the process of putting the data in the correct order.\n",
    "\n",
    "___\n"
   ]
  },
  {
   "cell_type": "markdown",
   "metadata": {},
   "source": [
    "# 2.2 TCP/IP Protocol Architecture\n",
    "- The TCP/IP protocol suite is the most widely used protocol suite.  It is named after the two most important protocols in the suite: the Transmission Control Protocol (TCP) and the Internet Protocol (IP).\n",
    "- Developed in the 1970s by the US Defense Advanced Research Projects Agency (DARPA) to connect its computers on ARPANET.\n",
    "- TCP/IP is now used by the global internet.\n",
    "- The TCP/IP protocol suite is a layered architecture:\n",
    "\t1. Physical Layer: physical interface between the devices and the transmission medium.  Concerned with characteristics of the transmission medium, signals and their strength, and the data rate.\n",
    "\t2. Network Access Layer: responsible for placing packets on and receiving them from the network medium.  It is concerned with destination addresses, invoking services, and routing data between two systems on the same network.  The sender must provide the address of the destination to the network such that it may route the data to the correct destination.  Some traffic may have a higher priority than others.  This layer is responsible for routing within its network, but not between networks.\n",
    "\t3. Internet Layer (IP): responsible for addressing and routing across different networks.  Implemented in routers that connect networks and relay data between them.\n",
    "\t4. Transport Layer (TCP): responsible for the reliable delivery of data and its ordering.  It ensures that all data arrives at the destination and in the same order it was sent.\n",
    "\t<!-- 5. Application Layer:  -->"
   ]
  }
 ],
 "metadata": {
  "language_info": {
   "name": "python"
  }
 },
 "nbformat": 4,
 "nbformat_minor": 2
}
