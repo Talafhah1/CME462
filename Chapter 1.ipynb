{
 "cells": [
  {
   "cell_type": "markdown",
   "metadata": {},
   "source": [
    "# Chapter 1: Data Communications and Networks Overview\n",
    "___\n"
   ]
  },
  {
   "cell_type": "markdown",
   "metadata": {},
   "source": [
    "## 1.1 Data vs. Signals\n",
    "- Data is a collection of facts, such as numbers, words, measurements, observations, or descriptions of things. Data can be in the form of text, images, sounds, or other types of information.\n",
    "- A signal is a physical quantity that varies with time, space, or some other variable. Signals can be used to represent data, and they can be transmitted over a communication channel from one location to another. Signals can be analog or digital.\n",
    "- Analog signals are continuous and can take on any value within a range. Examples of analog signals include sound waves, light waves, and electrical signals.\n",
    "- Digital signals are discrete and can take on only a limited number of values. Examples of digital signals include binary numbers, which can take on only two values, 0 and 1.\n",
    "- Signals can be transmitted over a variety of transmission media, including wires, cables, or fiber optics (guided transmission), and wireless channels (unguided transmission). The transmission medium can affect the quality of the signal and the speed at which it can be transmitted.\n",
    "\n",
    "___\n"
   ]
  },
  {
   "cell_type": "markdown",
   "metadata": {},
   "source": [
    "## 1.2 Communication Model\n",
    "- The communication model splits the communication process into five stages: \n",
    "\t1. Source: The source is the origin of the message. It is the device that generates the data to be transmitted.\n",
    "\t2. Transmitter: The transmitter is the device that converts the message into signals suitable for transmission over the channel.\n",
    "\t3. Transmission System: The transmission system is the medium that carries the signals from the transmitter to the receiver.  The signal will be transformed as it passes through the transmission system due to noise, distortion, interference, and other factors.\n",
    "\t4. Receiver: The receiver is the device that receives the signal from the channel and converts it back into the message.\n",
    "\t5. Destination: The destination is the device that receives the message from the receiver.\n",
    "\n",
    "<figure>\n",
    "\t<img src='images/communications_model.png' alt='Communication Model'/>\n",
    "\t<figcaption>Figure 1.1: Communication Model</figcaption>\n",
    "</figure>\n",
    "\n",
    "- The source generates data $m$ and turns it into an stream $g(t)$.  The transmitter converts the stream $g(t)$ into a signal $s(t)$ and sends it through the transmission system.  The receiver receives the signal $r(t)$ (which has been transformed by the transmission system) and converts it back into the stream $g'(t)$.  The destination receives the stream $g'(t)$ and converts it back into the data $m'$.  Often times the destination system will attempted to detect and correct errors in $g'(t)$ to ensure that $m'$ is the same as $m$.\n",
    "\n",
    "- The source and transmitter are often combined into a single device, the source system, and the receiver and destination are often combined into a single device, the destination system.\n",
    "- The communication model can be used to describe the process of communication in a variety of contexts, including human communication, computer communication, and communication between devices in a network.\n",
    "\n",
    "___\n"
   ]
  },
  {
   "cell_type": "markdown",
   "metadata": {},
   "source": [
    "## 1.3 Communication Tasks\n",
    "- Communications tasks are a list of key operations that any communication system must perform. These tasks include:\n",
    "\t1. Transmissions System Utilisation: Transmission facilities should be used effectively and efficiently.  This is achieved through various means such as multiplexing and switching.  Power control is also needed in wireless systems to avoid interference.\n",
    "\t2. Interfacing: The communication system must be able to interface with different types of devices and systems.\n",
    "\t3. Signal Generation: The communication system must be able to generate signals that can be transmitted over the transmission system.  The generated signals must be able to propagate over the transmission system and should be interpretable by the receiver as data.\n",
    "\t4. Synchronisation: The receiver must be able to know when a signal starts and ends and the duration of each signal element such that it can interpret the data correctly.\n",
    "\t5. Exchange Management: The communication system must be able to manage the exchange of data between the source and destination systems.  This includes whether both devices transmit data at the same time or one device transmits while the other receives (simplex, half-duplex, full-duplex).  This requires cooperation between the source and destination systems.\n",
    "\t6. Error Detection and Correction: The communication system must be able to detect and correct errors that occur during the transmission of data if errors cannot be tolerated.\n",
    "\t7. Flow Control: The sender should not overwhelm the receiver with data by transmitting data faster than they can be absorbed and processed.\n",
    "\t8. Addressing and Routing: In a non-trivial network, the communication system must be able to address and route data to the correct destination system.  The communication system must assure that only the intended destination system receives the data.  Routing also includes the ability to select the best path for data to travel from the source to the destination system.\n",
    "\t9. Recovery: Recovery is the ability of the communication system to recover from a failure of the transmission system or the source or destination systems.  The objective is to either resume the communication at the point of failure or to recover to the state of the systems before communication was initiated.\n",
    "\t10. Message Formatting: Messages must be formatted in a way that the receiver can interpret them correctly.  This includes the use of headers, trailers, and other control information.\n",
    "\t11. Security: The sender may wish to be assured that only the intended receiver actually receives the data.  The sender may also wish to be assured that the data is not altered during transmission.  The communication system must be able to provide security services such as confidentiality, integrity, and authentication.\n",
    "\t12. Network Management: Network management capabilities are needed to  monitor the system status, react to failures and overloads, and plan intelligently for future growth.\n",
    "\n",
    "___\n"
   ]
  },
  {
   "cell_type": "markdown",
   "metadata": {},
   "source": [
    "## 1.4 Networking\n",
    "- A network is a collection of nodes and links that are interconnected to allow the exchange of data between them.  Point to point networks connect every node to every other node; this is often very expensive, impractical, and inefficient.  Instead, most networks are multipoint networks where nodes are connected to a subset of other nodes.  The nodes in a network can be computers, servers, printers, or other devices.  The links can be wired or wireless.\n",
    "- For $n$ users to be fully connected in a point to point network, $n(n-1)/2$ links are needed.\n",
    "- To manage the huge number of devices worldwide, local area networks (LANs) are connected to form a wide area network (WAN).\n",
    "- A WAN consists of a number of interconnected switching nodes.  A transmission from any devices is routed through these nodes to the destination device.\n",
    "- WAN utilises a number of technologies such as:\n",
    "\t1. Circuit Switching: A dedicated communication path is established between the source and destination.  This path is maintained for the duration of the communication.  This is the technology used in the traditional telephone system.  It's inefficient for data communication because the path is maintained even when no data is being transmitted.\n",
    "\t2. Packet Switching: Data is broken into packets and transmitted over the network.  The packets are routed through the network to the destination.  The packets may take different paths to the destination and may arrive out of order.  The destination system reassembles the packets into the original data.  This is the technology used in the Internet.  Packet switching supports a data rate of `64 kbps`.\n",
    "\t3. Frame Relay: Since modern networks are more reliable than the early networks, frame relay is a technology that uses packet switching but with less error checking and recovery than the Internet.  This makes it faster and more efficient than the Internet for some applications.  Frame relay supports a data rate of `2 Mbps`.\n",
    "\t4. Asynchronous Transfer Mode (ATM): ATM is a technology that uses packet switching but with fixed length packets.  This makes it faster and more efficient than the Internet for some applications.  ATM supports a data rate from `10 Mbps` to `1 Gbps`.\n",
    "\n",
    "___\n"
   ]
  }
 ],
 "metadata": {
  "language_info": {
   "name": "python"
  }
 },
 "nbformat": 4,
 "nbformat_minor": 2
}
