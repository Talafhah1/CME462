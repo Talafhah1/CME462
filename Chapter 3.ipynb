{
 "cells": [
  {
   "cell_type": "markdown",
   "metadata": {},
   "source": [
    "# Chapter 3: Data Transmission\n",
    "___\n"
   ]
  },
  {
   "cell_type": "markdown",
   "metadata": {},
   "source": [
    "## 3.1 Transmission Technology Overview\n",
    "- Data is transmitted between a transmitter and a receiver over a **medium**.\n",
    "- The medium can be **guided**, such as a copper wire or fiber optic cable, or **unguided**, such as air or space.\n",
    "- Guided signals _don't propagate beyond the medium_, while unguided signals _can propagate beyond the medium_.\n",
    "- Transmissions can be done over a **direct link**, which means the source and destination are directly connected with _no intermediate devices_.  **Amplifiers** and **repeaters** can be used to boost the signal.\n",
    "- **Amplifiers** are used to _boost_ the signal and any noise that is present.\n",
    "- **Repeaters** are used to _regenerate_ the signal and remove any noise that is present.\n",
    "- **Point-to-point links** are used to connect _two devices_ directly with no intermediate devices.\n",
    "- **Multipoint links** are used to connect _more than two devices_.\n",
    "- **Simplex links (one-way)** are used for _one-way_ communication.  The receiver can't send data back to the sender.\n",
    "- **Half-duplex links (two-way)** are used for _two-way_ communication, but only one device can send data at a time.\n",
    "- **Full-duplex links (two-way)** are used for _two-way_ communication, and both devices can send data at the same time.\n",
    "- Signals in the **time domain** are represented by _amplitude_ and _time_:\n",
    "\t- **Analogue signals** are _continuous_ and can take any value within a range.\n",
    "\t- **Digital signals** are _discrete_ and can take only a limited number of values.\n",
    "\t- **Periodic signals** _repeat_ at regular intervals.\n",
    "\t- **Aperiodic signals** _don't repeat_ at regular intervals.\n",
    "- Signals in the **frequency domain** are represented by _amplitude_ and _frequency_, and are used to ease in the analysis and processing of signals.\n",
    "\t- The **spectrum** of a signal is the _range of frequencies_ that the signal contains.\n",
    "\t- **Bandwidth** is the difference between the _highest and lowest frequencies_ in a signal.\n",
    "\t- The **Fourier transform** is used to _convert a signal from the time domain to the frequency domain_ and vice versa.\n",
    "\t- **Sine waves** are used to represent signals in the time domain.  Any signal can be represented as a sum of sine waves.\n",
    "\t\t- **Peak amplitude (_A_)** is the maximum value of the wave.  Measured in _volts (V)_.\n",
    "\t\t- **Frequency (_f_)** is the number of cycles per second.  Measured in _hertz (Hz)_ or _cycles per second (cps)_.\n",
    "\t\t- **Period (_T_)** is the time taken to complete one cycle.  Measured in _seconds (s)_.\n",
    "\t\t- **Phase (_φ_)** is the position of the wave relative to a reference point.  Measured in _degrees (°)_ or _radians (rad)_.\n",
    "\t\t- **Wavelength (_λ_)** is the distance between two consecutive points in a wave that are in phase.  Measured in _meters (m)_.\n",
    "\t\t- The general equation for a sine wave is: $A \\sin(2\\pi ft + \\varphi)$.\n",
    "\t\t- The wavelength can be described in multiple ways: $\\lambda = vT$ or $\\lambda = \\frac{v}{f}$ where $v = c = 299,792,45\\,m/s \\approx 3 \\times 10^8\\,m/s$\n",
    "\n",
    "___\n"
   ]
  }
 ],
 "metadata": {
  "language_info": {
   "name": "python"
  }
 },
 "nbformat": 4,
 "nbformat_minor": 2
}
